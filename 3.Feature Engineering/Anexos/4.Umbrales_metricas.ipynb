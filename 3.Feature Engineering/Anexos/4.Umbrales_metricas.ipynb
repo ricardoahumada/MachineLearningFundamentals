{
 "cells": [
  {
   "cell_type": "markdown",
   "id": "90e6fbfb",
   "metadata": {},
   "source": [
    "# **Umbrales de métricas**\n",
    "\n",
    "Umbrales para interpretar las métricas en función del contexto del problema y la relación con el target:\n",
    "\n",
    "| **Métrica**       | **Estadística del Target a Evaluar** | **Valor Excelente**                                                                 | **Valor Bueno**                                                                 | **Valor Malo**                                                                 | **Valor Pésimo**                                                              |\n",
    "|--------------------|---------------------------------------|-------------------------------------------------------------------------------------|---------------------------------------------------------------------------------|--------------------------------------------------------------------------------|-------------------------------------------------------------------------------|\n",
    "| **MSE (Mean Squared Error)** | Varianza del Target                  | MSE < 25% de la varianza del target                                                 | MSE entre 25%-50% de la varianza del target                                     | MSE entre 50%-75% de la varianza del target                                    | MSE > 75% de la varianza del target                                           |\n",
    "| **MAE (Mean Absolute Error)** | Media del Target                     | MAE < 5% de la media del target                                                     | MAE entre 5%-10% de la media del target                                         | MAE entre 10%-20% de la media del target                                       | MAE > 20% de la media del target                                              |\n",
    "| **R² (Coeficiente de Determinación)** | Varianza del Target                  | R² > 0.9 (explica más del 90% de la varianza)                                       | R² entre 0.7-0.9 (explica entre 70%-90% de la varianza)                         | R² entre 0.3-0.7 (explica entre 30%-70% de la varianza)                        | R² < 0.3 (explica menos del 30% de la varianza)                               |\n",
    "| **Accuracy**       | Proporción de Clases Mayoritarias     | Accuracy > 0.9 (en problemas balanceados)                                           | Accuracy entre 0.8-0.9                                                          | Accuracy entre 0.6-0.8                                                         | Accuracy < 0.6                                                                |\n",
    "| **F1-Score**       | Distribución de Clases                | F1-Score > 0.9 (excelente equilibrio entre precisión y recall)                      | F1-Score entre 0.7-0.9                                                          | F1-Score entre 0.5-0.7                                                         | F1-Score < 0.5                                                                |\n",
    "| **Precision**      | Proporción de Clases Positivas        | Precision > 0.9 (muy baja tasa de falsos positivos)                                 | Precision entre 0.8-0.9                                                         | Precision entre 0.5-0.8                                                        | Precision < 0.5                                                               |\n",
    "| **Recall**         | Proporción de Clases Positivas        | Recall > 0.9 (muy baja tasa de falsos negativos)                                    | Recall entre 0.7-0.9                                                            | Recall entre 0.5-0.7                                                           | Recall < 0.5                                                                  |\n",
    "| **ROC-AUC**        | Distribución de Probabilidades        | ROC-AUC > 0.9 (excelente poder discriminativo)                                      | ROC-AUC entre 0.8-0.9                                                           | ROC-AUC entre 0.6-0.8                                                          | ROC-AUC < 0.6                                                                 |\n",
    "| **Log Loss**       | Entropía del Target                   | Log Loss < 0.1 (probabilidades extremadamente bien calibradas)                      | Log Loss entre 0.1-0.5                                                          | Log Loss entre 0.5-1.0                                                         | Log Loss > 1.0                                                                |"
   ]
  }
 ],
 "metadata": {
  "kernelspec": {
   "display_name": "Python 3",
   "language": "python",
   "name": "python3"
  },
  "language_info": {
   "name": "python",
   "version": "3.12.4"
  }
 },
 "nbformat": 4,
 "nbformat_minor": 5
}
